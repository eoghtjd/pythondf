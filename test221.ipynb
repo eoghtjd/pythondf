{
 "cells": [
  {
   "cell_type": "code",
   "execution_count": 28,
   "metadata": {},
   "outputs": [
    {
     "name": "stdout",
     "output_type": "stream",
     "text": [
      "날짜 11.24.\n",
      "매매기준률 1,303.70\n",
      "compare_yday 상승\n",
      "3.70\n",
      "전일대비 +3\n",
      "전일대비2 +\n",
      "3.70\n",
      "등락률 +0.28%\n"
     ]
    }
   ],
   "source": [
    "from selenium import webdriver\n",
    "from selenium.webdriver.chrome.options import Options\n",
    "from selenium.webdriver.chrome.service import Service\n",
    "from webdriver_manager.chrome import ChromeDriverManager\n",
    "from selenium.webdriver.common.by import By\n",
    "from selenium.webdriver.common.keys import Keys\n",
    "\n",
    "\n",
    "from time import sleep\n",
    "\n",
    "\n",
    "chrome_options = Options()\n",
    "chrome_options.add_experimental_option(\"detach\", True)\n",
    "\n",
    "service = Service(executable_path=ChromeDriverManager().install())\n",
    "driver = webdriver.Chrome(service=service, options=chrome_options)\n",
    "\n",
    "driver.get(\"https://m.stock.naver.com/marketindex/exchange/FX_USDKRW\")\n",
    "\n",
    "\n",
    "\n",
    "products = driver.find_elements(By.CSS_SELECTOR, '#content > div.FixedPriceList_article__y8Ed9 > div > div:nth-child(2) > table')\n",
    "\n",
    "for product in products:\n",
    "    date = product.find_element(By.CSS_SELECTOR, '#content > div.FixedPriceList_article__y8Ed9 > div > div:nth-child(2) > table > tbody > tr:nth-child(1) > th').text\n",
    "    print(f\"날짜 {date}\")\n",
    "    price = product.find_element(By.CSS_SELECTOR, '#content > div.FixedPriceList_article__y8Ed9 > div > div:nth-child(2) > table > tbody > tr:nth-child(1) > td:nth-child(2)').text\n",
    "    print(f\"매매기준률 {price}\") \n",
    "    # link = product.find_element(By.TAG_NAME, 'a').get_attribute('href')\n",
    "    compare_yday = product.find_element(By.CSS_SELECTOR, '#content > div.FixedPriceList_article__y8Ed9 > div > div:nth-child(2) > table > tbody > tr:nth-child(1) > td:nth-child(3) > div > span').text\n",
    "    print(f\"compare_yday {compare_yday}\") \n",
    "    modified_text = compare_yday.replace(\"상승\\n\", \"+\")\n",
    "    print(f\"전일대비 {modified_text[0]}{modified_text[2]}\") \n",
    "    print(f'전일대비2 {modified_text}')\n",
    "    updown_percent = product.find_element(By.CSS_SELECTOR, '#content > div.FixedPriceList_article__y8Ed9 > div > div:nth-child(2) > table > tbody > tr:nth-child(1) > td:nth-child(4) > div > span').text\n",
    "    print(f\"등락률 {updown_percent}\") \n",
    "\n"
   ]
  }
 ],
 "metadata": {
  "kernelspec": {
   "display_name": "base",
   "language": "python",
   "name": "python3"
  },
  "language_info": {
   "codemirror_mode": {
    "name": "ipython",
    "version": 3
   },
   "file_extension": ".py",
   "mimetype": "text/x-python",
   "name": "python",
   "nbconvert_exporter": "python",
   "pygments_lexer": "ipython3",
   "version": "3.11.5"
  }
 },
 "nbformat": 4,
 "nbformat_minor": 2
}
