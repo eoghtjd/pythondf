{
 "cells": [
  {
   "cell_type": "code",
   "execution_count": 1,
   "metadata": {},
   "outputs": [
    {
     "name": "stdout",
     "output_type": "stream",
     "text": [
      "['게토레이', '게토레이', '레쓰비', '레쓰비', '생수', '생수', '생수', '이프로']\n"
     ]
    }
   ],
   "source": [
    "vending_machine = ['게토레이', '게토레이', '레쓰비', '레쓰비', '생수', '생수', '생수', '이프로']\n",
    "mode = input(\"모드: \")\n",
    "\n",
    "def check_machine():\n",
    "    print(vending_machine)\n",
    "\n",
    "def is_drink():\n",
    "    drink=input('drink? ')\n",
    "    if drink in vending_machine:\n",
    "        print('Y')\n",
    "    else: \n",
    "        print('N')\n",
    "\n",
    "def add_drink():\n",
    "    drink=input('drink? ')\n",
    "    vending_machine.append(drink)\n",
    "    print(vending_machine)\n",
    "\n",
    "def remove_drink():\n",
    "    drink=input('drink? ')\n",
    "    vending_machine.remove(drink)\n",
    "    print(vending_machine)\n",
    "\n",
    "if mode != \"사용자\" and mode != \"관리자\":  \n",
    "    print(\"Error\")\n",
    "elif mode == \"사용자\":\n",
    "    is_drink()\n",
    "else:\n",
    "    action = input(\"추가/삭제: \")\n",
    "    if action == \"추가\":\n",
    "        add_drink()\n",
    "        print(sorted(vending_machine))\n",
    "    elif action == \"삭제\":\n",
    "        remove_drink()       \n",
    "\n",
    "check_machine()\n",
    "\n"
   ]
  }
 ],
 "metadata": {
  "kernelspec": {
   "display_name": "base",
   "language": "python",
   "name": "python3"
  },
  "language_info": {
   "codemirror_mode": {
    "name": "ipython",
    "version": 3
   },
   "file_extension": ".py",
   "mimetype": "text/x-python",
   "name": "python",
   "nbconvert_exporter": "python",
   "pygments_lexer": "ipython3",
   "version": "3.11.5"
  }
 },
 "nbformat": 4,
 "nbformat_minor": 2
}
